{
 "cells": [
  {
   "cell_type": "markdown",
   "id": "07a16f8d-f33e-47a2-a26b-ef332ff8a671",
   "metadata": {},
   "source": [
    "# load book as string"
   ]
  },
  {
   "cell_type": "code",
   "execution_count": 1,
   "id": "2fd91749-c849-4247-a1ea-5755e0ce8707",
   "metadata": {},
   "outputs": [],
   "source": [
    "with open(\"miracle_in_the_andes.txt\", \"r\") as bookRead:\n",
    "    book = bookRead.read()"
   ]
  },
  {
   "cell_type": "markdown",
   "id": "e677cdf9-ced3-4ba4-99fc-68ea7bfc188b",
   "metadata": {},
   "source": [
    "# the most used word (non-article)"
   ]
  },
  {
   "cell_type": "code",
   "execution_count": 2,
   "id": "169f3b61-4a69-4ab2-8ceb-49d0d8598d42",
   "metadata": {},
   "outputs": [],
   "source": [
    "import re\n",
    "pattern = re.compile(\"[a-zA-Z]+\")\n",
    "pattern\n",
    "findings = re.findall(pattern, book)"
   ]
  },
  {
   "cell_type": "code",
   "execution_count": 3,
   "id": "98992639-f4b7-45ed-a497-f9da67acbf81",
   "metadata": {},
   "outputs": [],
   "source": [
    "d = {}\n",
    "for word in findings:\n",
    "    if word in d.keys():\n",
    "        d[word] = d[word] + 1\n",
    "    else:\n",
    "        d[word] = 1"
   ]
  },
  {
   "cell_type": "code",
   "execution_count": 4,
   "id": "d81fb9ec-3409-4322-81ab-a37b43b52d74",
   "metadata": {},
   "outputs": [
    {
     "data": {
      "text/plain": [
       "[(10, 'Chapter'), (9, 'Before'), (3, 'WAS'), (1, 'IT'), (1, 'FRIDAY')]"
      ]
     },
     "execution_count": 4,
     "metadata": {},
     "output_type": "execute_result"
    }
   ],
   "source": [
    "d_list = [(value, key) for (key,value) in d.items()]\n",
    "dl = sorted(d_list[:5], reverse=True)\n",
    "dl"
   ]
  },
  {
   "cell_type": "code",
   "execution_count": 5,
   "id": "69475030-59c7-4a43-a107-a9e00ae388d8",
   "metadata": {},
   "outputs": [
    {
     "data": {
      "text/plain": [
       "'3.10.9'"
      ]
     },
     "execution_count": 5,
     "metadata": {},
     "output_type": "execute_result"
    }
   ],
   "source": [
    "from platform import python_version\n",
    "python_version()"
   ]
  },
  {
   "cell_type": "code",
   "execution_count": 20,
   "id": "e235c6f0-1c53-472d-8c7d-6d4703ba6775",
   "metadata": {},
   "outputs": [
    {
     "name": "stderr",
     "output_type": "stream",
     "text": [
      "[nltk_data] Downloading package stopwords to\n",
      "[nltk_data]     C:\\Users\\eamar\\AppData\\Roaming\\nltk_data...\n",
      "[nltk_data]   Package stopwords is already up-to-date!\n"
     ]
    },
    {
     "data": {
      "text/plain": [
       "True"
      ]
     },
     "execution_count": 20,
     "metadata": {},
     "output_type": "execute_result"
    }
   ],
   "source": [
    "import nltk\n",
    "nltk.download(\"stopwords\")"
   ]
  },
  {
   "cell_type": "code",
   "execution_count": 24,
   "id": "d91f914b-0ee8-46f5-ad04-bf3fd3339d46",
   "metadata": {},
   "outputs": [],
   "source": [
    "from nltk.corpus import stopwords\n",
    "english_stopwords = stopwords.words(\"english\")"
   ]
  },
  {
   "cell_type": "code",
   "execution_count": 27,
   "id": "5f78f0ef-fb97-4471-a86f-edd8ff6c9771",
   "metadata": {},
   "outputs": [
    {
     "ename": "SyntaxError",
     "evalue": "invalid syntax (2633011924.py, line 2)",
     "output_type": "error",
     "traceback": [
      "\u001b[1;36m  Cell \u001b[1;32mIn[27], line 2\u001b[1;36m\u001b[0m\n\u001b[1;33m    for d:\u001b[0m\n\u001b[1;37m         ^\u001b[0m\n\u001b[1;31mSyntaxError\u001b[0m\u001b[1;31m:\u001b[0m invalid syntax\n"
     ]
    }
   ],
   "source": [
    "d_filter = {}\n",
    "for d:\n",
    "    if d.keys() in english_stopwords:\n",
    "        continue\n",
    "    else:\n",
    "        d_filter = d"
   ]
  }
 ],
 "metadata": {
  "kernelspec": {
   "display_name": "Python 3 (ipykernel)",
   "language": "python",
   "name": "python3"
  },
  "language_info": {
   "codemirror_mode": {
    "name": "ipython",
    "version": 3
   },
   "file_extension": ".py",
   "mimetype": "text/x-python",
   "name": "python",
   "nbconvert_exporter": "python",
   "pygments_lexer": "ipython3",
   "version": "3.10.9"
  }
 },
 "nbformat": 4,
 "nbformat_minor": 5
}
