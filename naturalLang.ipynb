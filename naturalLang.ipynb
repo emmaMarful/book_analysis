{
 "cells": [
  {
   "cell_type": "markdown",
   "id": "07a16f8d-f33e-47a2-a26b-ef332ff8a671",
   "metadata": {},
   "source": [
    "# load book as string"
   ]
  },
  {
   "cell_type": "code",
   "execution_count": 1,
   "id": "2fd91749-c849-4247-a1ea-5755e0ce8707",
   "metadata": {},
   "outputs": [],
   "source": [
    "with open(\"miracle_in_the_andes.txt\", \"r\") as bookRead:\n",
    "    book = bookRead.read()"
   ]
  },
  {
   "cell_type": "markdown",
   "id": "e677cdf9-ced3-4ba4-99fc-68ea7bfc188b",
   "metadata": {},
   "source": [
    "# the most used word (non-article)"
   ]
  },
  {
   "cell_type": "code",
   "execution_count": 2,
   "id": "169f3b61-4a69-4ab2-8ceb-49d0d8598d42",
   "metadata": {},
   "outputs": [],
   "source": [
    "import re\n",
    "pattern = re.compile(\"[a-zA-Z]+\")\n",
    "pattern\n",
    "findings = re.findall(pattern, book)"
   ]
  },
  {
   "cell_type": "code",
   "execution_count": 3,
   "id": "98992639-f4b7-45ed-a497-f9da67acbf81",
   "metadata": {},
   "outputs": [],
   "source": [
    "d = {}\n",
    "for word in findings:\n",
    "    if word in d.keys():\n",
    "        d[word] = d[word] + 1\n",
    "    else:\n",
    "        d[word] = 1"
   ]
  },
  {
   "cell_type": "code",
   "execution_count": 4,
   "id": "d81fb9ec-3409-4322-81ab-a37b43b52d74",
   "metadata": {},
   "outputs": [],
   "source": [
    "d_list = [(value, key) for (key,value) in d.items()]\n",
    "dl = sorted(d_list, reverse=True)"
   ]
  },
  {
   "cell_type": "code",
   "execution_count": 5,
   "id": "69475030-59c7-4a43-a107-a9e00ae388d8",
   "metadata": {},
   "outputs": [
    {
     "data": {
      "text/plain": [
       "'3.10.9'"
      ]
     },
     "execution_count": 5,
     "metadata": {},
     "output_type": "execute_result"
    }
   ],
   "source": [
    "from platform import python_version\n",
    "python_version()"
   ]
  },
  {
   "cell_type": "code",
   "execution_count": 6,
   "id": "e235c6f0-1c53-472d-8c7d-6d4703ba6775",
   "metadata": {},
   "outputs": [
    {
     "name": "stderr",
     "output_type": "stream",
     "text": [
      "[nltk_data] Downloading package stopwords to\n",
      "[nltk_data]     C:\\Users\\eamar\\AppData\\Roaming\\nltk_data...\n",
      "[nltk_data]   Package stopwords is already up-to-date!\n"
     ]
    },
    {
     "data": {
      "text/plain": [
       "True"
      ]
     },
     "execution_count": 6,
     "metadata": {},
     "output_type": "execute_result"
    }
   ],
   "source": [
    "import nltk\n",
    "nltk.download(\"stopwords\")"
   ]
  },
  {
   "cell_type": "code",
   "execution_count": 7,
   "id": "d91f914b-0ee8-46f5-ad04-bf3fd3339d46",
   "metadata": {},
   "outputs": [],
   "source": [
    "from nltk.corpus import stopwords\n",
    "english_stopwords = stopwords.words(\"english\")"
   ]
  },
  {
   "cell_type": "code",
   "execution_count": 8,
   "id": "e00e2e86-a2c7-4ddf-bd88-5786d2566161",
   "metadata": {},
   "outputs": [],
   "source": [
    "filter_dl = []\n",
    "for count, words in dl:\n",
    "    if words not in english_stopwords:\n",
    "        filter_dl.append((words, count))"
   ]
  },
  {
   "cell_type": "code",
   "execution_count": 9,
   "id": "043df1e3-33b2-4384-b9a3-0875acd08f4c",
   "metadata": {},
   "outputs": [
    {
     "data": {
      "text/plain": [
       "[('I', 2729), ('would', 556), ('us', 518), ('We', 333), ('The', 308)]"
      ]
     },
     "execution_count": 9,
     "metadata": {},
     "output_type": "execute_result"
    }
   ],
   "source": [
    "filter_dl[:5]"
   ]
  },
  {
   "cell_type": "markdown",
   "id": "e64597b3-7e29-4666-97dd-f8bc19254b7e",
   "metadata": {},
   "source": [
    "# sentiment analysis: what is the most positive and negative chapter?"
   ]
  },
  {
   "cell_type": "code",
   "execution_count": 10,
   "id": "bee65dec-3d20-4ac6-81a4-0909ad81da1d",
   "metadata": {},
   "outputs": [
    {
     "name": "stderr",
     "output_type": "stream",
     "text": [
      "[nltk_data] Downloading package vader_lexicon to\n",
      "[nltk_data]     C:\\Users\\eamar\\AppData\\Roaming\\nltk_data...\n",
      "[nltk_data]   Package vader_lexicon is already up-to-date!\n"
     ]
    },
    {
     "data": {
      "text/plain": [
       "True"
      ]
     },
     "execution_count": 10,
     "metadata": {},
     "output_type": "execute_result"
    }
   ],
   "source": [
    "import nltk\n",
    "nltk.download('vader_lexicon')"
   ]
  },
  {
   "cell_type": "code",
   "execution_count": 19,
   "id": "1332316d-c717-49b2-9042-1e69f975cbc7",
   "metadata": {},
   "outputs": [
    {
     "data": {
      "text/plain": [
       "{'neg': 0.113, 'neu': 0.402, 'pos': 0.485, 'compound': 0.8555}"
      ]
     },
     "execution_count": 19,
     "metadata": {},
     "output_type": "execute_result"
    }
   ],
   "source": [
    "from nltk.sentiment import SentimentIntensityAnalyzer\n",
    "\n",
    "analyzer = SentimentIntensityAnalyzer()\n",
    "scores = analyzer.polarity_scores(\"Hey, today was a bad day but we hope for the best\")\n",
    "scores"
   ]
  },
  {
   "cell_type": "code",
   "execution_count": 12,
   "id": "39bb88e1-b98f-4c8b-adec-5fe9124140c2",
   "metadata": {},
   "outputs": [
    {
     "name": "stdout",
     "output_type": "stream",
     "text": [
      "This is a positve sentence\n"
     ]
    }
   ],
   "source": [
    "if scores[\"pos\"] > scores['neg']:\n",
    "    print(\"This is a positve sentence\")\n",
    "else:\n",
    "    print(\"This is a negative sentence\")"
   ]
  },
  {
   "cell_type": "markdown",
   "id": "639d3263-dd7d-4325-860d-c50a3aa649f7",
   "metadata": {},
   "source": [
    "### book analyzing"
   ]
  },
  {
   "cell_type": "code",
   "execution_count": 13,
   "id": "3ce99e71-a3f6-41f6-9c03-697442d5acc6",
   "metadata": {},
   "outputs": [
    {
     "data": {
      "text/plain": [
       "{'neg': 0.116, 'neu': 0.76, 'pos': 0.125, 'compound': 1.0}"
      ]
     },
     "execution_count": 13,
     "metadata": {},
     "output_type": "execute_result"
    }
   ],
   "source": [
    "analyzer.polarity_scores(book)"
   ]
  },
  {
   "cell_type": "markdown",
   "id": "4f3756dd-96c2-4711-8ed1-85bf67da236c",
   "metadata": {},
   "source": [
    "### check if a chapter is more positive or negative"
   ]
  },
  {
   "cell_type": "code",
   "execution_count": 37,
   "id": "605c22da-c6e7-4616-b63f-ad88d4ab35d3",
   "metadata": {},
   "outputs": [],
   "source": [
    "pattern = re.compile(\"Chapter [0-9]+\")\n",
    "findings = re.findall(pattern, book)\n",
    "chapter = re.split(pattern, book)"
   ]
  },
  {
   "cell_type": "code",
   "execution_count": 38,
   "id": "ce62cef4-278b-49e0-a91b-178fb85bbddc",
   "metadata": {},
   "outputs": [],
   "source": [
    "import nltk\n",
    "from nltk.sentiment import SentimentIntensityAnalyzer\n",
    "analyzer = SentimentIntensityAnalyzer()"
   ]
  },
  {
   "cell_type": "code",
   "execution_count": 39,
   "id": "4fcdbb1f-e2d9-41f4-b469-10f989d001d0",
   "metadata": {},
   "outputs": [
    {
     "name": "stdout",
     "output_type": "stream",
     "text": [
      "Chapter 1 is a positive chapter\n",
      "{'neg': 0.061, 'neu': 0.779, 'pos': 0.16, 'compound': 1.0}\n",
      "\n",
      "\n",
      "Chapter 2 is a positive chapter\n",
      "{'neg': 0.12, 'neu': 0.726, 'pos': 0.154, 'compound': 0.9991}\n",
      "\n",
      "\n",
      "Chapter 3 is a negative chapter\n",
      "{'neg': 0.145, 'neu': 0.751, 'pos': 0.105, 'compound': -0.9999}\n",
      "\n",
      "\n",
      "Chapter 4 is a negative chapter\n",
      "{'neg': 0.141, 'neu': 0.721, 'pos': 0.138, 'compound': -0.9963}\n",
      "\n",
      "\n",
      "Chapter 5 is a positive chapter\n",
      "{'neg': 0.118, 'neu': 0.742, 'pos': 0.141, 'compound': 0.9997}\n",
      "\n",
      "\n",
      "Chapter 6 is a negative chapter\n",
      "{'neg': 0.124, 'neu': 0.761, 'pos': 0.115, 'compound': -0.9979}\n",
      "\n",
      "\n",
      "Chapter 7 is a negative chapter\n",
      "{'neg': 0.136, 'neu': 0.761, 'pos': 0.103, 'compound': -0.9999}\n",
      "\n",
      "\n",
      "Chapter 8 is a negative chapter\n",
      "{'neg': 0.12, 'neu': 0.786, 'pos': 0.094, 'compound': -0.9998}\n",
      "\n",
      "\n",
      "Chapter 9 is a negative chapter\n",
      "{'neg': 0.097, 'neu': 0.824, 'pos': 0.079, 'compound': -0.9996}\n",
      "\n",
      "\n",
      "Chapter 10 is a positive chapter\n",
      "{'neg': 0.086, 'neu': 0.733, 'pos': 0.181, 'compound': 1.0}\n",
      "\n",
      "\n"
     ]
    }
   ],
   "source": [
    "count = 1\n",
    "for chap in chapter[1:]:\n",
    "    sentimentCheck = analyzer.polarity_scores(chap)\n",
    "    if sentimentCheck['pos'] > sentimentCheck['neg']:\n",
    "        print(f'Chapter {count} is a positive chapter')\n",
    "        print(sentimentCheck)\n",
    "    else:\n",
    "        print(f'Chapter {count} is a negative chapter')\n",
    "        print(sentimentCheck)\n",
    "\n",
    "    print(\"\\n\")\n",
    "    count = count + 1"
   ]
  },
  {
   "cell_type": "code",
   "execution_count": null,
   "id": "ca17cc56-a408-4b91-98e5-f7d75f991e83",
   "metadata": {},
   "outputs": [],
   "source": []
  }
 ],
 "metadata": {
  "kernelspec": {
   "display_name": "Python 3 (ipykernel)",
   "language": "python",
   "name": "python3"
  },
  "language_info": {
   "codemirror_mode": {
    "name": "ipython",
    "version": 3
   },
   "file_extension": ".py",
   "mimetype": "text/x-python",
   "name": "python",
   "nbconvert_exporter": "python",
   "pygments_lexer": "ipython3",
   "version": "3.10.9"
  }
 },
 "nbformat": 4,
 "nbformat_minor": 5
}
